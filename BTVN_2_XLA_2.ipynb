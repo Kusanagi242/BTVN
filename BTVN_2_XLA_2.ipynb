{
  "nbformat": 4,
  "nbformat_minor": 0,
  "metadata": {
    "colab": {
      "name": "BTVN_2_XLA",
      "provenance": [],
      "collapsed_sections": [],
      "authorship_tag": "ABX9TyPcxeYDgl8qZLzJXYXAc3U7",
      "include_colab_link": true
    },
    "kernelspec": {
      "name": "python3",
      "display_name": "Python 3"
    },
    "language_info": {
      "name": "python"
    },
    "accelerator": "GPU"
  },
  "cells": [
    {
      "cell_type": "markdown",
      "metadata": {
        "id": "view-in-github",
        "colab_type": "text"
      },
      "source": [
        "<a href=\"https://colab.research.google.com/github/Kusanagi242/BTVN/blob/main/BTVN_2_XLA_2.ipynb\" target=\"_parent\"><img src=\"https://colab.research.google.com/assets/colab-badge.svg\" alt=\"Open In Colab\"/></a>"
      ]
    },
    {
      "cell_type": "code",
      "metadata": {
        "colab": {
          "base_uri": "https://localhost:8080/"
        },
        "id": "HWHXh_LkDPCZ",
        "outputId": "dc2c3e33-db70-499e-a67a-1c4eec7d2e23"
      },
      "source": [
        "from google.colab import drive\n",
        "drive.mount('/content/gdrive')"
      ],
      "execution_count": null,
      "outputs": [
        {
          "output_type": "stream",
          "name": "stdout",
          "text": [
            "Mounted at /content/gdrive\n"
          ]
        }
      ]
    },
    {
      "cell_type": "code",
      "metadata": {
        "id": "B0TKtdwSDz5R",
        "colab": {
          "base_uri": "https://localhost:8080/"
        },
        "outputId": "312966ff-90b6-4054-9f7d-aa5d4debf383"
      },
      "source": [
        "# !ls gdrive/MyDrive/DATA/Birds"
      ],
      "execution_count": null,
      "outputs": [
        {
          "output_type": "stream",
          "name": "stdout",
          "text": [
            "train.zip\n"
          ]
        }
      ]
    },
    {
      "cell_type": "code",
      "metadata": {
        "id": "Q7-da_eaEG16"
      },
      "source": [
        "!unzip gdrive/MyDrive/DATA/Birds/train.zip"
      ],
      "execution_count": null,
      "outputs": []
    },
    {
      "cell_type": "code",
      "metadata": {
        "id": "bkcScMoQILZI",
        "colab": {
          "base_uri": "https://localhost:8080/"
        },
        "outputId": "d8b29e7b-6b05-488e-91cc-956fbcab7243"
      },
      "source": [
        "# !ls"
      ],
      "execution_count": null,
      "outputs": [
        {
          "output_type": "stream",
          "name": "stdout",
          "text": [
            "gdrive\tsample_data  train\n"
          ]
        }
      ]
    },
    {
      "cell_type": "code",
      "metadata": {
        "id": "WJgetKXq7WTc"
      },
      "source": [
        "!ls train/"
      ],
      "execution_count": null,
      "outputs": []
    },
    {
      "cell_type": "code",
      "metadata": {
        "id": "Kg9Xhomw8FA3",
        "colab": {
          "base_uri": "https://localhost:8080/"
        },
        "outputId": "b624d7fb-e7c5-478a-f5f8-f01eddc78481"
      },
      "source": [
        "from pathlib import Path\n",
        "train_root = Path('train/')\n",
        "\n",
        "for item in train_root.glob('*.jpg'):\n",
        "  print(item.name)\n",
        "print(len(list(train_root.glob('*.jpg'))))"
      ],
      "execution_count": null,
      "outputs": [
        {
          "output_type": "stream",
          "name": "stdout",
          "text": [
            "0\n"
          ]
        }
      ]
    },
    {
      "cell_type": "code",
      "metadata": {
        "id": "Jyac1IE8Q_Tz"
      },
      "source": [
        "# !ls train/099.Ovenbird | wc -l\n",
        "# !ls train/100.Brown_Pelican | wc -l\n",
        "# !ls train/198.Rock_Wren | wc -l\n"
      ],
      "execution_count": null,
      "outputs": []
    },
    {
      "cell_type": "markdown",
      "metadata": {
        "id": "Io6ARepxYb0y"
      },
      "source": [
        "# Tạo datasets từ file list"
      ]
    },
    {
      "cell_type": "code",
      "metadata": {
        "id": "v1FT0Q-sYbO2"
      },
      "source": [
        "import tensorflow as tf\n",
        "filelist_ds = tf.data.Dataset.list_files(str(train_root/'*/*'))\n",
        "#  lấy 9 tập ngẫu nhiên\n",
        "# for file in filelist_ds.take(9):\n",
        "#   print(file)"
      ],
      "execution_count": null,
      "outputs": []
    },
    {
      "cell_type": "markdown",
      "metadata": {
        "id": "PkjTsnlW0CWf"
      },
      "source": [
        "# Dán 200 nhãn vào dataset\n",
        "*   vector 8\n",
        "*   Dài vãi loèn\n",
        "\n",
        "\n",
        "\n"
      ]
    },
    {
      "cell_type": "code",
      "metadata": {
        "id": "geG5qFyRqyfW",
        "colab": {
          "base_uri": "https://localhost:8080/"
        },
        "outputId": "6eaab75a-0769-4de9-a391-aafe2c0a58c9"
      },
      "source": [
        "def get_label(file_path):\n",
        "  part = tf.strings.split(file_path, '/')\n",
        "  \n",
        "  # path[0] = train\n",
        "  # path[1] = folder (141.Artic....) --> class/ label\n",
        "  # path[2] = filename (Artic_Tern..)\n",
        "  if part[-2] == '001.Black_footed_Albatross':\n",
        "    labels = [0,0,0,0,0,0,0,0]\n",
        "\n",
        "  elif part[-2] == '002.Laysan_Albatross\t':\n",
        "    labels = [0,0,0,0,0,0,0,1]\n",
        "\n",
        "  elif part[-2] == '003.Sooty_Albatross':\n",
        "    labels = [0,0,0,0,0,0,1,0]\n",
        "\n",
        "  elif part[-2] == '004.Groove_billed_Ani':\n",
        "    labels = [0,0,0,0,0,0,1,1]\n",
        "\n",
        "  elif part[-2] == '005.Crested_Auklet':\n",
        "    labels = [0,0,0,0,0,1,0,0]\n",
        "\n",
        "  elif part[-2] == '006.Least_Auklet':\n",
        "    labels = [0,0,0,0,0,1,0,1]\n",
        "\n",
        "  elif part[-2] == '007.Parakeet_Auklet':\n",
        "    labels = [0,0,0,0,0,1,1,0]\n",
        "\n",
        "  elif part[-2] == '008.Rhinoceros_Auklet':\n",
        "    labels = [0,0,0,0,0,1,1,1]\n",
        "\n",
        "  elif part[-2] == '009.Brewer_Blackbird':\n",
        "    labels = [0,0,0,0,1,0,0,0]\n",
        "\n",
        "  elif part[-2] == '010.Red_winged_Blackbird':\n",
        "    labels = [0,0,0,0,1,0,0,1]\n",
        "\n",
        "  elif part[-2] == '011.Rusty_Blackbird':\n",
        "    labels = [0,0,0,0,1,0,1,0]\n",
        "\n",
        "  elif part[-2] == '012.Yellow_headed_Blackbird':\n",
        "    labels = [0,0,0,0,1,0,1,1]\n",
        "\n",
        "  elif part[-2] == '013.Bobolink':\n",
        "    labels = [0,0,0,0,1,1,0,0]\n",
        "\n",
        "  elif part[-2] == '011.Rusty_Blackbird':\n",
        "    labels = [0,0,0,0,1,1,0,1]\n",
        "\n",
        "  elif part[-2] == '014.Indigo_Bunting':\n",
        "    labels = [0,0,0,0,1,1,1,0]\n",
        "\n",
        "  elif part[-2] == '015.Lazuli_Bunting':\n",
        "    labels = [0,0,0,0,1,1,1,1]\n",
        "\n",
        "  elif part[-2] == '016.Painted_Bunting':\n",
        "    labels = [0,0,0,1,0,0,0,0]\n",
        "\n",
        "  elif part[-2] == '017.Cardinal\t':\n",
        "    labels = [0,0,0,1,0,0,0,1]\n",
        "\n",
        "  elif part[-2] == '018.Spotted_Catbird\t':\n",
        "    labels = [0,0,0,1,0,0,1,0]\n",
        "\n",
        "  elif part[-2] == '019.Gray_Catbird':\n",
        "    labels = [0,0,0,1,0,0,1,1]\n",
        "\n",
        "  elif part[-2] == '020.Yellow_breasted_Chat ':\n",
        "    labels = [0,0,0,1,0,1,0,0]\n",
        "\n",
        "  elif part[-2] == '021.Eastern_Towhee\t':\n",
        "    labels = [0,0,0,1,0,1,0,1]\n",
        "\n",
        "  elif part[-2] == '022.Chuck_will_Widow':\n",
        "    labels = [0,0,0,1,0,1,1,0]\n",
        "\n",
        "  elif part[-2] == '023.Brandt_Cormorant':\n",
        "    labels = [0,0,0,1,0,1,1,1]\n",
        "\n",
        "  elif part[-2] == '024.Red_faced_Cormorant   ':\n",
        "    labels = [0,0,0,1,1,0,0,0]\n",
        "\n",
        "  elif part[-2] == '025.Pelagic_Cormorant':\n",
        "    labels = [0,0,0,1,1,0,0,1]\n",
        "\n",
        "  elif part[-2] == '026.Bronzed_Cowbird':\n",
        "    labels = [0,0,0,1,1,0,1,0]\n",
        "\n",
        "  elif part[-2] == '027.Shiny_Cowbird':\n",
        "    labels = [0,0,0,1,1,0,1,1]\n",
        "\n",
        "  elif part[-2] == '028.Brown_Creeper':\n",
        "    labels = [0,0,0,1,1,1,0,0]\n",
        "\n",
        "  elif part[-2] == '029.American_Crow':\n",
        "    labels = [0,0,0,1,1,1,0,1]\n",
        "\n",
        "  elif part[-2] == '030.Fish_Crow\t':\n",
        "    labels = [0,0,0,1,1,1,1,0]\n",
        "\n",
        "  elif part[-2] == '031.Black_billed_Cuckoo  ':\n",
        "    labels = [0,0,0,1,1,1,1,1]\n",
        "\n",
        "  elif part[-2] == '032.Mangrove_Cuckoo\t':\n",
        "    labels = [0,0,1,0,0,0,0,0]\n",
        "\n",
        "  elif part[-2] == '033.Yellow_billed_Cuckoo   ':\n",
        "    labels = [0,0,1,0,0,0,0,1]\n",
        "\n",
        "  elif part[-2] == '034.Gray_crowned_Rosy_Finch':\n",
        "    labels = [0,0,1,0,0,0,1,0]\n",
        "\n",
        "  elif part[-2] == '035.Purple_Finch':\n",
        "    labels = [0,0,1,0,0,0,1,1]\n",
        "\n",
        "  elif part[-2] == '036.Northern_Flicker':\n",
        "    labels = [0,0,1,0,0,1,0,0]\n",
        "\n",
        "  elif part[-2] == '037.Acadian_Flycatcher':\n",
        "    labels = [0,0,1,0,0,1,0,1]\n",
        "\n",
        "  elif part[-2] == '038.Great_Crested_Flycatcher':\n",
        "    labels = [0,0,1,0,0,1,1,0]\n",
        "\n",
        "  elif part[-2] == '039.Least_Flycatcher':\n",
        "    labels = [0,0,1,0,0,1,1,1]\n",
        "\n",
        "  elif part[-2] == '040.Olive_sided_Flycatcher ':\n",
        "    labels = [0,0,1,1,0,0,0,0]\n",
        "\n",
        "  elif part[-2] == '041.Scissor_tailed_Flycatcher':\n",
        "    labels = [0,0,1,1,0,0,0,1]\n",
        "\n",
        "  elif part[-2] == '042.Vermilion_Flycatcher ':\n",
        "    labels = [0,0,1,1,0,0,1,0]\n",
        "\n",
        "  elif part[-2] == '043.Yellow_bellied_Flycatcher':\n",
        "    labels = [0,0,1,1,0,0,1,1]\n",
        "\n",
        "  elif part[-2] == '044.Frigatebird\t':\n",
        "    labels = [0,0,1,1,0,1,0,0]\n",
        "\n",
        "  elif part[-2] == '045.Northern_Fulmar':\n",
        "    labels = [0,0,1,1,0,1,0,1]\n",
        "\n",
        "  elif part[-2] == '046.Gadwall\t':\n",
        "    labels = [0,0,1,1,0,1,1,0]\n",
        "\n",
        "  elif part[-2] == '047.American_Goldfinch':\n",
        "    labels = [0,0,1,1,0,1,1,1]\n",
        "\n",
        "  elif part[-2] == '048.European_Goldfinch\t':\n",
        "    labels = [0,0,1,1,1,0,0,0]\n",
        "\n",
        "  elif part[-2] == '049.Boat_tailed_Grackle':\n",
        "    labels = [0,0,1,1,1,0,0,1]\n",
        "\n",
        "  elif part[-2] == '050.Eared_Grebe\t':\n",
        "    labels = [0,0,1,1,1,0,1,0]\n",
        "\n",
        "# //////////////////////////////////////////////////////////////////////////////\n",
        "  elif part[-2] == '051.Horned_Grebe':\n",
        "    labels = [0,0,1,1,1,0,1,1]\n",
        "\n",
        "  elif part[-2] == '052.Pied_billed_Grebe':\n",
        "    labels = [0,0,1,1,1,1,0,0]\n",
        "\n",
        "  elif part[-2] == '053.Western_Grebe':\n",
        "    labels = [0,0,1,1,1,1,0,1]\n",
        "\n",
        "  elif part[-2] == '054.Blue_Grosbeak':\n",
        "    labels = [0,0,1,1,1,1,1,0]\n",
        "\n",
        "  elif part[-2] == '055.Evening_Grosbeak':\n",
        "    labels = [0,0,1,1,1,1,1,1]\n",
        "\n",
        "  elif part[-2] == '056.Pine_Grosbeak':\n",
        "    labels = [0,1,0,0,0,0,0,0]\n",
        "\n",
        "  elif part[-2] == '057.Rose_breasted_Grosbeak ':\n",
        "    labels = [0,1,0,0,0,0,0,1]\n",
        "\n",
        "  elif part[-2] == '058.Pigeon_Guillemot':\n",
        "    labels = [0,1,0,0,0,0,1,0]\n",
        "\n",
        "  elif part[-2] == '059.California_Gull':\n",
        "    labels = [0,1,0,0,0,0,1,1]\n",
        "\n",
        "  elif part[-2] == '060.Glaucous_winged_Gull   ':\n",
        "    labels = [0,1,0,0,0,1,0,0]\n",
        "\n",
        "  elif part[-2] == '061.Heermann_Gull ':\n",
        "    labels = [0,1,0,0,0,1,0,1]\n",
        "\n",
        "  elif part[-2] == '062.Herring_Gull\t':\n",
        "    labels = [0,1,0,0,0,1,1,0]\n",
        "\n",
        "  elif part[-2] == '063.Ivory_Gull':\n",
        "    labels = [0,1,0,0,0,1,1,1]\n",
        "\n",
        "  elif part[-2] == '064.Ring_billed_Gull':\n",
        "    labels = [0,1,0,0,1,0,0,0]\n",
        "\n",
        "  elif part[-2] == '065.Slaty_backed_Gull':\n",
        "    labels = [0,1,0,0,1,0,0,1]\n",
        "\n",
        "  elif part[-2] == '066.Western_Gull':\n",
        "    labels = [0,1,0,0,1,0,1,0]\n",
        "\n",
        "  elif part[-2] == '067.Anna_Hummingbird':\n",
        "    labels = [0,1,0,0,1,0,1,1]\n",
        "\n",
        "  elif part[-2] == '068.Ruby_throated_Hummingbird':\n",
        "    labels = [0,1,0,0,1,1,0,0]\n",
        "\n",
        "  elif part[-2] == '069.Rufous_Hummingbird':\n",
        "    labels = [0,1,0,0,1,1,0,1]\n",
        "\n",
        "  elif part[-2] == '070.Green_Violetear':\n",
        "    labels = [0,1,0,0,1,1,1,0]\n",
        "\n",
        "  elif part[-2] == '071.Long_tailed_Jaeger':\n",
        "    labels = [0,1,0,0,1,1,1,1]\n",
        "\n",
        "  elif part[-2] == '072.Pomarine_Jaeger':\n",
        "    labels = [0,1,0,1,0,0,0,0]\n",
        "\n",
        "  elif part[-2] == '073.Blue_Jay':\n",
        "    labels = [0,1,0,1,0,0,0,1]\n",
        "\n",
        "  elif part[-2] == '074.Florida_Jay':\n",
        "    labels = [0,1,0,1,0,0,1,0]\n",
        "\n",
        "  elif part[-2] == '075.Green_Jay':\n",
        "    labels = [0,1,0,1,0,0,1,1]\n",
        "    \n",
        "  elif part[-2] == '076.Dark_eyed_Junco':\n",
        "    labels = [0,1,0,1,0,1,0,0]\n",
        "\n",
        "  elif part[-2] == '077.Tropical_Kingbird':\n",
        "    labels = [0,1,0,1,0,1,0,1]\n",
        "\n",
        "  elif part[-2] == '078.Gray_Kingbird':\n",
        "    labels = [0,1,0,1,0,1,1,0]\n",
        "\n",
        "  elif part[-2] == '079.Belted_Kingfisher':\n",
        "    labels = [0,1,0,1,0,1,1,1]\n",
        "\n",
        "  elif part[-2] == '080.Green_Kingfisher':\n",
        "    labels = [0,1,0,1,1,0,0,0]\n",
        "\n",
        "  elif part[-2] == '081.Pied_Kingfisher':\n",
        "    labels = [0,1,0,1,1,0,0,1]\n",
        "\n",
        "  elif part[-2] == '082.Ringed_Kingfisher':\n",
        "    labels = [0,1,0,1,1,0,1,0]\n",
        "\n",
        "  elif part[-2] == '083.White_breasted_Kingfisher ':\n",
        "    labels = [0,1,0,1,1,0,1,1]\n",
        "\n",
        "  elif part[-2] == '084.Red_legged_Kittiwake ':\n",
        "    labels = [0,1,0,1,1,1,0,0]\n",
        "\n",
        "  elif part[-2] == '085.Horned_Lark\t':\n",
        "    labels = [0,1,0,1,1,1,0,1]\n",
        "\n",
        "  elif part[-2] == '086.Pacific_Loon':\n",
        "    labels = [0,1,0,1,1,1,1,0]\n",
        "\n",
        "  elif part[-2] == '087.Mallard\t':\n",
        "    labels = [0,1,0,1,1,1,1,1]\n",
        "\n",
        "  elif part[-2] == '088.Western_Meadowlark':\n",
        "    labels = [0,1,1,0,0,0,0,0]\n",
        "\n",
        "  elif part[-2] == '089.Hooded_Merganser':\n",
        "    labels = [0,1,1,0,0,0,0,1]\n",
        "\n",
        "  elif part[-2] == '090.Red_breasted_Merganser':\n",
        "    labels = [0,1,1,0,0,0,1,0]\n",
        "\n",
        "  elif part[-2] == '091.Mockingbird\t':\n",
        "    labels = [0,1,1,0,0,0,1,1]\n",
        "\n",
        "  elif part[-2] == '092.Nighthawk':\n",
        "    labels = [0,1,1,0,0,1,0,0]\n",
        "\n",
        "  elif part[-2] == '093.Clark_Nutcracker':\n",
        "    labels = [0,1,1,0,0,1,0,1]\n",
        "\n",
        "  elif part[-2] == '094.White_breasted_Nuthatch':\n",
        "    labels = [00,1,1,0,0,1,1,0]\n",
        "\n",
        "  elif part[-2] == '095.Baltimore_Oriole':\n",
        "    labels = [0,1,1,0,0,1,1,1]\n",
        "\n",
        "  elif part[-2] == '096.Hooded_Oriole':\n",
        "    labels = [0,1,1,0,1,0,0,0]\n",
        "\n",
        "  elif part[-2] == '097.Orchard_Oriole':\n",
        "    labels = [0,1,1,0,1,0,0,1]\n",
        "\n",
        "  elif part[-2] == '098.Scott_Oriole':\n",
        "    labels = [0,1,1,0,1,0,1,0]\n",
        "    \n",
        "  elif part[-2] == '099.Ovenbird':\n",
        "    labels = [0,1,1,0,1,0,1,1]\n",
        "\n",
        "  elif part[-2] == '100.Brown_Pelican':\n",
        "    labels = [0,1,1,0,1,1,0,0]\n",
        "# //////////////////////////////////////////////////////////////////////////////\n",
        "# //////////////////////////////////////////////////////////////////////////////\n",
        "  elif part[-2] == '101.White_Pelican\t':\n",
        "    labels = [0,1,1,0,1,1,0,1]\n",
        "\n",
        "  elif part[-2] == '102.Western_Wood_Pewee':\n",
        "    labels = [0,1,1,0,1,1,1,0]\n",
        "\n",
        "  elif part[-2] == '103.Sayornis':\n",
        "    labels = [0,1,1,0,1,1,1,1]\n",
        "\n",
        "  elif part[-2] == '104.American_Pipit       ':\n",
        "    labels = [0,1,1,1,0,0,0,0]\n",
        "\n",
        "  elif part[-2] == '105.Whip_poor_Will':\n",
        "    labels = [0,1,1,1,0,0,0,1]\n",
        "\n",
        "  elif part[-2] == '106.Horned_Puffin':\n",
        "    labels = [0,1,1,1,0,0,1,0]\n",
        "\n",
        "  elif part[-2] == '107.Common_Raven':\n",
        "    labels = [0,1,1,1,0,0,1,1]\n",
        "\n",
        "  elif part[-2] == '108.White_necked_Raven':\n",
        "    labels = [0,1,1,1,0,1,0,0]\n",
        "\n",
        "  elif part[-2] == '109.American_Redstart':\n",
        "    labels = [0,1,1,1,0,1,0,1]\n",
        "\n",
        "  elif part[-2] == '110.Geococcyx':\n",
        "    labels = [0,1,1,1,0,1,1,0]\n",
        "\n",
        "  elif part[-2] == '111.Loggerhead_Shrike':\n",
        "    labels = [0,1,1,1,0,1,1,1]\n",
        "\n",
        "  elif part[-2] == '112.Great_Grey_Shrike':\n",
        "    labels = [0,1,1,1,1,0,0,0]\n",
        "\n",
        "  elif part[-2] == '113.Baird_Sparrow':\n",
        "    labels = [0,1,1,1,1,0,0,1]\n",
        "\n",
        "  elif part[-2] == '114.Black_throated_Sparrow':\n",
        "    labels = [0,1,1,1,1,0,1,0]\n",
        "\n",
        "  elif part[-2] == '115.Brewer_Sparrow':\n",
        "    labels = [0,1,1,1,1,0,1,1]\n",
        "\n",
        "  elif part[-2] == '116.Chipping_Sparrow':\n",
        "    labels = [0,1,1,1,1,1,0,0]\n",
        "\n",
        "  elif part[-2] == '117.Clay_colored_Sparrow':\n",
        "    labels = [0,1,1,1,1,1,0,1]\n",
        "\n",
        "  elif part[-2] == '118.House_Sparrow':\n",
        "    labels = [0,1,1,1,1,1,1,0]\n",
        "\n",
        "  elif part[-2] == '119.Field_Sparrow':\n",
        "    labels = [0,1,1,1,1,1,1,1]\n",
        "\n",
        "  elif part[-2] == '120.Fox_Sparrow':\n",
        "    labels = [1,0,0,0,0,0,0,0]\n",
        "\n",
        "  elif part[-2] == '121.Grasshopper_Sparrow':\n",
        "    labels = [1,0,0,0,0,0,0,1]\n",
        "\n",
        "  elif part[-2] == '122.Harris_Sparrow':\n",
        "    labels = [1,0,0,0,0,0,1,0]\n",
        "\n",
        "  elif part[-2] == '123.Henslow_Sparrow':\n",
        "    labels = [1,0,0,0,0,0,1,1]\n",
        "\n",
        "  elif part[-2] == '124.Le_Conte_Sparrow':\n",
        "    labels = [1,0,0,0,0,1,0,0]\n",
        "\n",
        "  elif part[-2] == '125.Lincoln_Sparrow':\n",
        "    labels = [1,0,0,0,0,1,0,1]\n",
        "\n",
        "  elif part[-2] == '126.Nelson_Sharp_tailed_Sparrow':\n",
        "    labels = [1,0,0,0,0,1,1,0]\n",
        "\n",
        "  elif part[-2] == '127.Savannah_Sparrow':\n",
        "    labels = [1,0,0,0,0,1,1,1]\n",
        "\n",
        "  elif part[-2] == '128.Seaside_Sparrow':\n",
        "    labels = [1,0,0,0,1,0,0,0]\n",
        "\n",
        "  elif part[-2] == '129.Song_Sparrow':\n",
        "    labels = [1,0,0,0,1,0,0,1]\n",
        "\n",
        "  elif part[-2] == '130.Tree_Sparrow':\n",
        "    labels = [1,0,0,0,1,0,1,0]\n",
        "\n",
        "  elif part[-2] == '131.Vesper_Sparrow':\n",
        "    labels = [1,0,0,0,1,0,1,1]\n",
        "\n",
        "  elif part[-2] == '132.White_crowned_Sparrow':\n",
        "    labels = [1,0,0,0,1,1,0,0]\n",
        "\n",
        "  elif part[-2] == '133.White_throated_Sparrow':\n",
        "    labels = [1,0,0,0,1,1,0,1]\n",
        "\n",
        "  elif part[-2] == '134.Cape_Glossy_Starling':\n",
        "    labels = [1,0,0,0,1,1,1,0]\n",
        "\n",
        "  elif part[-2] == '135.Bank_Swallow':\n",
        "    labels = [1,0,0,0,1,1,1,1]\n",
        "\n",
        "  elif part[-2] == '136.Barn_Swallow':\n",
        "    labels = [1,0,0,1,0,0,0,0]\n",
        "\n",
        "  elif part[-2] == '137.Cliff_Swallow':\n",
        "    labels = [1,0,0,1,0,0,0,1]\n",
        "\n",
        "  elif part[-2] == '138.Tree_Swallow':\n",
        "    labels = [1,0,0,1,0,0,1,0]\n",
        "\n",
        "  elif part[-2] == '139.Scarlet_Tanager':\n",
        "    labels = [1,0,0,1,0,0,1,1]\n",
        "\n",
        "  elif part[-2] == '140.Summer_Tanager':\n",
        "    labels = [1,0,0,1,0,1,0,0]\n",
        "\n",
        "  elif part[-2] == '141.Artic_Tern':\n",
        "    labels = [1,0,0,1,0,1,0,1]\n",
        "\n",
        "  elif part[-2] == '142.Black_Tern':\n",
        "    labels = [1,0,0,1,0,1,1,0]\n",
        "\n",
        "  elif part[-2] == '143.Caspian_Tern':\n",
        "    labels = [1,0,0,1,0,1,1,1]\n",
        "\n",
        "  elif part[-2] == '144.Common_Tern':\n",
        "    labels = [1,0,0,1,1,0,0,0]\n",
        "\n",
        "  elif part[-2] == '145.Elegant_Tern':\n",
        "    labels = [1,0,0,1,1,0,0,1]\n",
        "\n",
        "  elif part[-2] == '146.Forsters_Tern':\n",
        "    labels = [1,0,0,1,1,0,1,0]\n",
        "\n",
        "  elif part[-2] == '147.Least_Tern':\n",
        "    labels = [1,0,0,1,1,0,1,1]\n",
        "\n",
        "  elif part[-2] == '148.Green_tailed_Towhee':\n",
        "    labels = [1,0,0,1,1,1,0,0]\n",
        "\n",
        "  elif part[-2] == '149.Brown_Thrasher':\n",
        "    labels = [1,0,0,1,1,1,0,1]\n",
        "\n",
        "  elif part[-2] == '150.Sage_Thrasher':\n",
        "    labels = [1,0,0,1,1,1,1,0]\n",
        "# //////////////////////////////////////////////////////////////////////////////\n",
        "  elif part[-2] == '151.Black_capped_Vireo':\n",
        "    labels = [1,0,0,1,1,1,1,1]\n",
        "\n",
        "  elif part[-2] == '152.Blue_headed_Vireo':\n",
        "    labels = [1,0,1,0,0,0,0,0]\n",
        "\n",
        "  elif part[-2] == '153.Philadelphia_Vireo':\n",
        "    labels = [1,0,1,0,0,0,0,1]\n",
        "\n",
        "  elif part[-2] == '154.Red_eyed_Vireo':\n",
        "    labels = [1,0,1,0,0,0,1,0]\n",
        "\n",
        "  elif part[-2] == '155.Warbling_Vireo':\n",
        "    labels = [1,0,1,0,0,0,1,1]\n",
        "\n",
        "  elif part[-2] == '156.White_eyed_Vireo':\n",
        "    labels = [1,0,1,0,0,1,0,0]\n",
        "\n",
        "  elif part[-2] == '157.Yellow_throated_Vireo ':\n",
        "    labels = [1,0,1,0,0,1,0,1]\n",
        "\n",
        "  elif part[-2] == '158.Bay_breasted_Warbler':\n",
        "    labels = [1,0,1,0,0,1,1,0]\n",
        "\n",
        "  elif part[-2] == '159.Black_and_white_Warbler':\n",
        "    labels = [1,0,1,0,0,1,1,1]\n",
        "\n",
        "  elif part[-2] == '160.Black_throated_Blue_Warbler':\n",
        "    labels = [1,0,1,0,1,0,0,0]\n",
        "\n",
        "  elif part[-2] == '161.Blue_winged_Warbler':\n",
        "    labels = [1,0,1,0,1,0,0,1]\n",
        "\n",
        "  elif part[-2] == '162.Canada_Warbler\t':\n",
        "    labels = [1,0,1,0,1,0,1,0]\n",
        "\n",
        "  elif part[-2] == '163.Cape_May_Warbler':\n",
        "    labels = [1,0,1,0,1,0,1,1]\n",
        "\n",
        "  elif part[-2] == '164.Cerulean_Warbler':\n",
        "    labels = [1,0,1,0,1,1,0,0]\n",
        "\n",
        "  elif part[-2] == '165.Chestnut_sided_Warbler':\n",
        "    labels = [1,0,1,0,1,1,0,1]\n",
        "\n",
        "  elif part[-2] == '166.Golden_winged_Warbler':\n",
        "    labels = [1,0,1,0,1,1,1,0]\n",
        "\n",
        "  elif part[-2] == '167.Hooded_Warbler':\n",
        "    labels = [1,0,1,0,1,1,1,1]\n",
        "\n",
        "  elif part[-2] == '168.Kentucky_Warbler':\n",
        "    labels = [1,0,1,1,0,0,0,0]\n",
        "\n",
        "  elif part[-2] == '169.Magnolia_Warbler':\n",
        "    labels = [1,0,1,1,0,0,0,1]\n",
        "\n",
        "  elif part[-2] == '170.Mourning_Warbler':\n",
        "    labels = [1,0,1,1,0,0,1,0]\n",
        "\n",
        "  elif part[-2] == '171.Myrtle_Warbler':\n",
        "    labels = [1,0,1,1,0,0,1,1]\n",
        "\n",
        "  elif part[-2] == '172.Nashville_Warbler':\n",
        "    labels = [1,0,1,1,0,0,0,0]\n",
        "\n",
        "  elif part[-2] == '173.Orange_crowned_Warblery':\n",
        "    labels = [1,0,1,1,0,0,0,1]\n",
        "\n",
        "  elif part[-2] == '174.Palm_Warbler':\n",
        "    labels = [1,0,1,1,0,0,1,0]\n",
        "\n",
        "  elif part[-2] == '175.Pine_Warbler':\n",
        "    labels = [1,0,1,1,0,0,1,1]\n",
        "    \n",
        "  elif part[-2] == '176.Prairie_Warbler':\n",
        "    labels = [1,0,1,1,0,1,0,0]\n",
        "\n",
        "  elif part[-2] == '177.Prothonotary_Warbler':\n",
        "    labels = [1,0,1,1,0,1,0,1]\n",
        "\n",
        "  elif part[-2] == '178.Swainson_Warbler':\n",
        "    labels = [1,0,1,1,0,1,1,0]\n",
        "\n",
        "  elif part[-2] == '179.Tennessee_Warbler':\n",
        "    labels = [1,0,1,1,0,1,1,1]\n",
        "\n",
        "  elif part[-2] == '180.Wilson_Warbler':\n",
        "    labels = [1,0,1,1,1,0,0,0]\n",
        "\n",
        "  elif part[-2] == '181.Worm_eating_Warbler':\n",
        "    labels = [1,0,1,1,1,0,0,1]\n",
        "\n",
        "  elif part[-2] == '182.Yellow_Warbler':\n",
        "    labels = [1,0,1,1,1,0,1,0]\n",
        "\n",
        "  elif part[-2] == '183.Northern_Waterthrush':\n",
        "    labels = [1,0,1,1,1,0,1,1]\n",
        "\n",
        "  elif part[-2] == '184.Louisiana_Waterthrush':\n",
        "    labels = [1,0,1,1,1,1,0,0]\n",
        "\n",
        "  elif part[-2] == '185.Bohemian_Waxwing':\n",
        "    labels = [1,0,1,1,1,1,0,1]\n",
        "\n",
        "  elif part[-2] == '186.Cedar_Waxwing':\n",
        "    labels = [1,0,1,1,1,1,1,0]\n",
        "\n",
        "  elif part[-2] == '187.American_Three_toed_Woodpecker':\n",
        "    labels = [1,0,1,1,1,1,1,1]\n",
        "\n",
        "  elif part[-2] == '188.Pileated_Woodpecker':\n",
        "    labels = [1,1,0,0,0,0,0,0]\n",
        "\n",
        "  elif part[-2] == '189.Red_bellied_Woodpecker':\n",
        "    labels = [1,1,0,0,0,0,0,0]\n",
        "\n",
        "  elif part[-2] == '190.Red_cockaded_Woodpecker':\n",
        "    labels = [1,1,0,0,0,0,0,1]\n",
        "\n",
        "  elif part[-2] == '191.Red_headed_Woodpecker':\n",
        "    labels = [1,1,0,0,0,0,1,0]\n",
        "\n",
        "  elif part[-2] == '192.Downy_Woodpecker':\n",
        "    labels = [1,1,0,0,0,0,1,1]\n",
        "\n",
        "  elif part[-2] == '193.Bewick_Wren':\n",
        "    labels = [1,1,0,0,0,1,0,0]\n",
        "\n",
        "  elif part[-2] == '194.Cactus_Wren':\n",
        "    labels = [1,1,0,0,0,1,0,1]\n",
        "\n",
        "  elif part[-2] == '195.Carolina_Wren':\n",
        "    labels = [1,1,0,0,0,1,1,0]\n",
        "\n",
        "  elif part[-2] == '196.House_Wren':\n",
        "    labels = [1,1,0,0,0,1,1,1]\n",
        "\n",
        "  elif part[-2] == '197.Marsh_Wren':\n",
        "    labels = [1,1,0,0,1,0,0,0]\n",
        "\n",
        "  elif part[-2] == '198.Rock_Wren':\n",
        "    labels = [1,1,0,0,1,0,0,1]\n",
        "    \n",
        "  elif part[-2] == '199.Winter_Wren':\n",
        "    labels = [1,1,0,0,1,0,1,0]\n",
        "\n",
        "  else:   # else: part[-2] == '200.Common_Yellowthroat':\n",
        "    labels = [1,1,0,0,1,0,1,1]\n",
        "  return tf.convert_to_tensor(labels)\n",
        "\n",
        "for file in filelist_ds.take(9):\n",
        "  print('filename: ', file.numpy().decode('utf-8'))\n",
        "  print('label: ', get_label(file).numpy())\n"
      ],
      "execution_count": null,
      "outputs": [
        {
          "output_type": "stream",
          "name": "stdout",
          "text": [
            "filename:  train/148.Green_tailed_Towhee/Green_Tailed_Towhee_0074_154915.jpg\n",
            "label:  [1 0 0 1 1 1 0 0]\n",
            "filename:  train/062.Herring_Gull/Herring_Gull_0102_48078.jpg\n",
            "label:  [1 1 0 0 1 0 1 1]\n",
            "filename:  train/034.Gray_crowned_Rosy_Finch/Gray_Crowned_Rosy_Finch_0065_797301.jpg\n",
            "label:  [0 0 1 0 0 0 1 0]\n",
            "filename:  train/009.Brewer_Blackbird/Brewer_Blackbird_0004_2345.jpg\n",
            "label:  [0 0 0 0 1 0 0 0]\n",
            "filename:  train/156.White_eyed_Vireo/White_Eyed_Vireo_0120_158991.jpg\n",
            "label:  [1 0 1 0 0 1 0 0]\n",
            "filename:  train/199.Winter_Wren/Winter_Wren_0029_190376.jpg\n",
            "label:  [1 1 0 0 1 0 1 0]\n",
            "filename:  train/083.White_breasted_Kingfisher/White_Breasted_Kingfisher_0116_73295.jpg\n",
            "label:  [1 1 0 0 1 0 1 1]\n",
            "filename:  train/072.Pomarine_Jaeger/Pomarine_Jaeger_0022_795747.jpg\n",
            "label:  [0 1 0 1 0 0 0 0]\n",
            "filename:  train/114.Black_throated_Sparrow/Black_Throated_Sparrow_0065_107087.jpg\n",
            "label:  [0 1 1 1 1 0 1 0]\n"
          ]
        }
      ]
    },
    {
      "cell_type": "code",
      "metadata": {
        "id": "ab5BQs8rsgbY"
      },
      "source": [
        "img_height = 333\n",
        "img_width = 500\n",
        "def preprocessing(file_path):\n",
        "  # read file\n",
        "  img = tf.io.read_file(file_path)\n",
        "  img = tf.image.decode_jpeg(img, channels = 3)\n",
        "  # transform\n",
        "  # convert to from uint8 to float32 and normalize value to [0 1]\n",
        "  img = tf.image.convert_image_dtype(img, tf.float32)\n",
        "  # resize image\n",
        "  img = tf.image.resize(img, [img_width, img_height])\n",
        "  # get image label\n",
        "  label = get_label(file_path)\n",
        "  # return\n",
        "  return img, label"
      ],
      "execution_count": 65,
      "outputs": []
    },
    {
      "cell_type": "code",
      "metadata": {
        "colab": {
          "base_uri": "https://localhost:8080/",
          "height": 502
        },
        "id": "YuL-HcvLrboq",
        "outputId": "9426f258-5892-4829-fd8e-a9993a725c7b"
      },
      "source": [
        "ds_size = 11788\n",
        "batch_size = 10\n",
        "# build dataset\n",
        "train_ds = filelist_ds.shuffle(ds_size)\n",
        "train_ds = train_ds.map(preprocessing)\n",
        "train_ds = train_ds.batch(batch_size)\n",
        "train_ds = train_ds.pretech(1)"
      ],
      "execution_count": 66,
      "outputs": [
        {
          "output_type": "error",
          "ename": "OperatorNotAllowedInGraphError",
          "evalue": "ignored",
          "traceback": [
            "\u001b[0;31m---------------------------------------------------------------------------\u001b[0m",
            "\u001b[0;31mOperatorNotAllowedInGraphError\u001b[0m            Traceback (most recent call last)",
            "\u001b[0;32m<ipython-input-66-694fbab479bc>\u001b[0m in \u001b[0;36m<module>\u001b[0;34m()\u001b[0m\n\u001b[1;32m      3\u001b[0m \u001b[0;31m# build dataset\u001b[0m\u001b[0;34m\u001b[0m\u001b[0;34m\u001b[0m\u001b[0;34m\u001b[0m\u001b[0m\n\u001b[1;32m      4\u001b[0m \u001b[0mtrain_ds\u001b[0m \u001b[0;34m=\u001b[0m \u001b[0mfilelist_ds\u001b[0m\u001b[0;34m.\u001b[0m\u001b[0mshuffle\u001b[0m\u001b[0;34m(\u001b[0m\u001b[0mds_size\u001b[0m\u001b[0;34m)\u001b[0m\u001b[0;34m\u001b[0m\u001b[0;34m\u001b[0m\u001b[0m\n\u001b[0;32m----> 5\u001b[0;31m \u001b[0mtrain_ds\u001b[0m \u001b[0;34m=\u001b[0m \u001b[0mtrain_ds\u001b[0m\u001b[0;34m.\u001b[0m\u001b[0mmap\u001b[0m\u001b[0;34m(\u001b[0m\u001b[0mpreprocessing\u001b[0m\u001b[0;34m)\u001b[0m\u001b[0;34m\u001b[0m\u001b[0;34m\u001b[0m\u001b[0m\n\u001b[0m\u001b[1;32m      6\u001b[0m \u001b[0mtrain_ds\u001b[0m \u001b[0;34m=\u001b[0m \u001b[0mtrain_ds\u001b[0m\u001b[0;34m.\u001b[0m\u001b[0mbatch\u001b[0m\u001b[0;34m(\u001b[0m\u001b[0mbatch_size\u001b[0m\u001b[0;34m)\u001b[0m\u001b[0;34m\u001b[0m\u001b[0;34m\u001b[0m\u001b[0m\n\u001b[1;32m      7\u001b[0m \u001b[0mtrain_ds\u001b[0m \u001b[0;34m=\u001b[0m \u001b[0mtrain_ds\u001b[0m\u001b[0;34m.\u001b[0m\u001b[0mpretech\u001b[0m\u001b[0;34m(\u001b[0m\u001b[0;36m1\u001b[0m\u001b[0;34m)\u001b[0m\u001b[0;34m\u001b[0m\u001b[0;34m\u001b[0m\u001b[0m\n",
            "\u001b[0;32m/usr/local/lib/python3.7/dist-packages/tensorflow/python/data/ops/dataset_ops.py\u001b[0m in \u001b[0;36mmap\u001b[0;34m(self, map_func, num_parallel_calls, deterministic, name)\u001b[0m\n\u001b[1;32m   2002\u001b[0m         warnings.warn(\"The `deterministic` argument has no effect unless the \"\n\u001b[1;32m   2003\u001b[0m                       \"`num_parallel_calls` argument is specified.\")\n\u001b[0;32m-> 2004\u001b[0;31m       \u001b[0;32mreturn\u001b[0m \u001b[0mMapDataset\u001b[0m\u001b[0;34m(\u001b[0m\u001b[0mself\u001b[0m\u001b[0;34m,\u001b[0m \u001b[0mmap_func\u001b[0m\u001b[0;34m,\u001b[0m \u001b[0mpreserve_cardinality\u001b[0m\u001b[0;34m=\u001b[0m\u001b[0;32mTrue\u001b[0m\u001b[0;34m,\u001b[0m \u001b[0mname\u001b[0m\u001b[0;34m=\u001b[0m\u001b[0mname\u001b[0m\u001b[0;34m)\u001b[0m\u001b[0;34m\u001b[0m\u001b[0;34m\u001b[0m\u001b[0m\n\u001b[0m\u001b[1;32m   2005\u001b[0m     \u001b[0;32melse\u001b[0m\u001b[0;34m:\u001b[0m\u001b[0;34m\u001b[0m\u001b[0;34m\u001b[0m\u001b[0m\n\u001b[1;32m   2006\u001b[0m       return ParallelMapDataset(\n",
            "\u001b[0;32m/usr/local/lib/python3.7/dist-packages/tensorflow/python/data/ops/dataset_ops.py\u001b[0m in \u001b[0;36m__init__\u001b[0;34m(self, input_dataset, map_func, use_inter_op_parallelism, preserve_cardinality, use_legacy_function, name)\u001b[0m\n\u001b[1;32m   5457\u001b[0m         \u001b[0mself\u001b[0m\u001b[0;34m.\u001b[0m\u001b[0m_transformation_name\u001b[0m\u001b[0;34m(\u001b[0m\u001b[0;34m)\u001b[0m\u001b[0;34m,\u001b[0m\u001b[0;34m\u001b[0m\u001b[0;34m\u001b[0m\u001b[0m\n\u001b[1;32m   5458\u001b[0m         \u001b[0mdataset\u001b[0m\u001b[0;34m=\u001b[0m\u001b[0minput_dataset\u001b[0m\u001b[0;34m,\u001b[0m\u001b[0;34m\u001b[0m\u001b[0;34m\u001b[0m\u001b[0m\n\u001b[0;32m-> 5459\u001b[0;31m         use_legacy_function=use_legacy_function)\n\u001b[0m\u001b[1;32m   5460\u001b[0m     \u001b[0mself\u001b[0m\u001b[0;34m.\u001b[0m\u001b[0m_metadata\u001b[0m \u001b[0;34m=\u001b[0m \u001b[0mdataset_metadata_pb2\u001b[0m\u001b[0;34m.\u001b[0m\u001b[0mMetadata\u001b[0m\u001b[0;34m(\u001b[0m\u001b[0;34m)\u001b[0m\u001b[0;34m\u001b[0m\u001b[0;34m\u001b[0m\u001b[0m\n\u001b[1;32m   5461\u001b[0m     \u001b[0;32mif\u001b[0m \u001b[0mname\u001b[0m\u001b[0;34m:\u001b[0m\u001b[0;34m\u001b[0m\u001b[0;34m\u001b[0m\u001b[0m\n",
            "\u001b[0;32m/usr/local/lib/python3.7/dist-packages/tensorflow/python/data/ops/dataset_ops.py\u001b[0m in \u001b[0;36m__init__\u001b[0;34m(self, func, transformation_name, dataset, input_classes, input_shapes, input_types, input_structure, add_to_graph, use_legacy_function, defun_kwargs)\u001b[0m\n\u001b[1;32m   4531\u001b[0m         \u001b[0mfn_factory\u001b[0m \u001b[0;34m=\u001b[0m \u001b[0mtrace_tf_function\u001b[0m\u001b[0;34m(\u001b[0m\u001b[0mdefun_kwargs\u001b[0m\u001b[0;34m)\u001b[0m\u001b[0;34m\u001b[0m\u001b[0;34m\u001b[0m\u001b[0m\n\u001b[1;32m   4532\u001b[0m \u001b[0;34m\u001b[0m\u001b[0m\n\u001b[0;32m-> 4533\u001b[0;31m     \u001b[0mself\u001b[0m\u001b[0;34m.\u001b[0m\u001b[0m_function\u001b[0m \u001b[0;34m=\u001b[0m \u001b[0mfn_factory\u001b[0m\u001b[0;34m(\u001b[0m\u001b[0;34m)\u001b[0m\u001b[0;34m\u001b[0m\u001b[0;34m\u001b[0m\u001b[0m\n\u001b[0m\u001b[1;32m   4534\u001b[0m     \u001b[0;31m# There is no graph to add in eager mode.\u001b[0m\u001b[0;34m\u001b[0m\u001b[0;34m\u001b[0m\u001b[0;34m\u001b[0m\u001b[0m\n\u001b[1;32m   4535\u001b[0m     \u001b[0madd_to_graph\u001b[0m \u001b[0;34m&=\u001b[0m \u001b[0;32mnot\u001b[0m \u001b[0mcontext\u001b[0m\u001b[0;34m.\u001b[0m\u001b[0mexecuting_eagerly\u001b[0m\u001b[0;34m(\u001b[0m\u001b[0;34m)\u001b[0m\u001b[0;34m\u001b[0m\u001b[0;34m\u001b[0m\u001b[0m\n",
            "\u001b[0;32m/usr/local/lib/python3.7/dist-packages/tensorflow/python/eager/function.py\u001b[0m in \u001b[0;36mget_concrete_function\u001b[0;34m(self, *args, **kwargs)\u001b[0m\n\u001b[1;32m   3243\u001b[0m     \"\"\"\n\u001b[1;32m   3244\u001b[0m     graph_function = self._get_concrete_function_garbage_collected(\n\u001b[0;32m-> 3245\u001b[0;31m         *args, **kwargs)\n\u001b[0m\u001b[1;32m   3246\u001b[0m     \u001b[0mgraph_function\u001b[0m\u001b[0;34m.\u001b[0m\u001b[0m_garbage_collector\u001b[0m\u001b[0;34m.\u001b[0m\u001b[0mrelease\u001b[0m\u001b[0;34m(\u001b[0m\u001b[0;34m)\u001b[0m  \u001b[0;31m# pylint: disable=protected-access\u001b[0m\u001b[0;34m\u001b[0m\u001b[0;34m\u001b[0m\u001b[0m\n\u001b[1;32m   3247\u001b[0m     \u001b[0;32mreturn\u001b[0m \u001b[0mgraph_function\u001b[0m\u001b[0;34m\u001b[0m\u001b[0;34m\u001b[0m\u001b[0m\n",
            "\u001b[0;32m/usr/local/lib/python3.7/dist-packages/tensorflow/python/eager/function.py\u001b[0m in \u001b[0;36m_get_concrete_function_garbage_collected\u001b[0;34m(self, *args, **kwargs)\u001b[0m\n\u001b[1;32m   3208\u001b[0m       \u001b[0margs\u001b[0m\u001b[0;34m,\u001b[0m \u001b[0mkwargs\u001b[0m \u001b[0;34m=\u001b[0m \u001b[0;32mNone\u001b[0m\u001b[0;34m,\u001b[0m \u001b[0;32mNone\u001b[0m\u001b[0;34m\u001b[0m\u001b[0;34m\u001b[0m\u001b[0m\n\u001b[1;32m   3209\u001b[0m     \u001b[0;32mwith\u001b[0m \u001b[0mself\u001b[0m\u001b[0;34m.\u001b[0m\u001b[0m_lock\u001b[0m\u001b[0;34m:\u001b[0m\u001b[0;34m\u001b[0m\u001b[0;34m\u001b[0m\u001b[0m\n\u001b[0;32m-> 3210\u001b[0;31m       \u001b[0mgraph_function\u001b[0m\u001b[0;34m,\u001b[0m \u001b[0m_\u001b[0m \u001b[0;34m=\u001b[0m \u001b[0mself\u001b[0m\u001b[0;34m.\u001b[0m\u001b[0m_maybe_define_function\u001b[0m\u001b[0;34m(\u001b[0m\u001b[0margs\u001b[0m\u001b[0;34m,\u001b[0m \u001b[0mkwargs\u001b[0m\u001b[0;34m)\u001b[0m\u001b[0;34m\u001b[0m\u001b[0;34m\u001b[0m\u001b[0m\n\u001b[0m\u001b[1;32m   3211\u001b[0m       \u001b[0mseen_names\u001b[0m \u001b[0;34m=\u001b[0m \u001b[0mset\u001b[0m\u001b[0;34m(\u001b[0m\u001b[0;34m)\u001b[0m\u001b[0;34m\u001b[0m\u001b[0;34m\u001b[0m\u001b[0m\n\u001b[1;32m   3212\u001b[0m       captured = object_identity.ObjectIdentitySet(\n",
            "\u001b[0;32m/usr/local/lib/python3.7/dist-packages/tensorflow/python/eager/function.py\u001b[0m in \u001b[0;36m_maybe_define_function\u001b[0;34m(self, args, kwargs)\u001b[0m\n\u001b[1;32m   3555\u001b[0m \u001b[0;34m\u001b[0m\u001b[0m\n\u001b[1;32m   3556\u001b[0m           \u001b[0mself\u001b[0m\u001b[0;34m.\u001b[0m\u001b[0m_function_cache\u001b[0m\u001b[0;34m.\u001b[0m\u001b[0mmissed\u001b[0m\u001b[0;34m.\u001b[0m\u001b[0madd\u001b[0m\u001b[0;34m(\u001b[0m\u001b[0mcall_context_key\u001b[0m\u001b[0;34m)\u001b[0m\u001b[0;34m\u001b[0m\u001b[0;34m\u001b[0m\u001b[0m\n\u001b[0;32m-> 3557\u001b[0;31m           \u001b[0mgraph_function\u001b[0m \u001b[0;34m=\u001b[0m \u001b[0mself\u001b[0m\u001b[0;34m.\u001b[0m\u001b[0m_create_graph_function\u001b[0m\u001b[0;34m(\u001b[0m\u001b[0margs\u001b[0m\u001b[0;34m,\u001b[0m \u001b[0mkwargs\u001b[0m\u001b[0;34m)\u001b[0m\u001b[0;34m\u001b[0m\u001b[0;34m\u001b[0m\u001b[0m\n\u001b[0m\u001b[1;32m   3558\u001b[0m           \u001b[0mself\u001b[0m\u001b[0;34m.\u001b[0m\u001b[0m_function_cache\u001b[0m\u001b[0;34m.\u001b[0m\u001b[0mprimary\u001b[0m\u001b[0;34m[\u001b[0m\u001b[0mcache_key\u001b[0m\u001b[0;34m]\u001b[0m \u001b[0;34m=\u001b[0m \u001b[0mgraph_function\u001b[0m\u001b[0;34m\u001b[0m\u001b[0;34m\u001b[0m\u001b[0m\n\u001b[1;32m   3559\u001b[0m \u001b[0;34m\u001b[0m\u001b[0m\n",
            "\u001b[0;32m/usr/local/lib/python3.7/dist-packages/tensorflow/python/eager/function.py\u001b[0m in \u001b[0;36m_create_graph_function\u001b[0;34m(self, args, kwargs, override_flat_arg_shapes)\u001b[0m\n\u001b[1;32m   3400\u001b[0m             \u001b[0marg_names\u001b[0m\u001b[0;34m=\u001b[0m\u001b[0marg_names\u001b[0m\u001b[0;34m,\u001b[0m\u001b[0;34m\u001b[0m\u001b[0;34m\u001b[0m\u001b[0m\n\u001b[1;32m   3401\u001b[0m             \u001b[0moverride_flat_arg_shapes\u001b[0m\u001b[0;34m=\u001b[0m\u001b[0moverride_flat_arg_shapes\u001b[0m\u001b[0;34m,\u001b[0m\u001b[0;34m\u001b[0m\u001b[0;34m\u001b[0m\u001b[0m\n\u001b[0;32m-> 3402\u001b[0;31m             capture_by_value=self._capture_by_value),\n\u001b[0m\u001b[1;32m   3403\u001b[0m         \u001b[0mself\u001b[0m\u001b[0;34m.\u001b[0m\u001b[0m_function_attributes\u001b[0m\u001b[0;34m,\u001b[0m\u001b[0;34m\u001b[0m\u001b[0;34m\u001b[0m\u001b[0m\n\u001b[1;32m   3404\u001b[0m         \u001b[0mfunction_spec\u001b[0m\u001b[0;34m=\u001b[0m\u001b[0mself\u001b[0m\u001b[0;34m.\u001b[0m\u001b[0mfunction_spec\u001b[0m\u001b[0;34m,\u001b[0m\u001b[0;34m\u001b[0m\u001b[0;34m\u001b[0m\u001b[0m\n",
            "\u001b[0;32m/usr/local/lib/python3.7/dist-packages/tensorflow/python/framework/func_graph.py\u001b[0m in \u001b[0;36mfunc_graph_from_py_func\u001b[0;34m(name, python_func, args, kwargs, signature, func_graph, autograph, autograph_options, add_control_dependencies, arg_names, op_return_value, collections, capture_by_value, override_flat_arg_shapes, acd_record_initial_resource_uses)\u001b[0m\n\u001b[1;32m   1141\u001b[0m         \u001b[0m_\u001b[0m\u001b[0;34m,\u001b[0m \u001b[0moriginal_func\u001b[0m \u001b[0;34m=\u001b[0m \u001b[0mtf_decorator\u001b[0m\u001b[0;34m.\u001b[0m\u001b[0munwrap\u001b[0m\u001b[0;34m(\u001b[0m\u001b[0mpython_func\u001b[0m\u001b[0;34m)\u001b[0m\u001b[0;34m\u001b[0m\u001b[0;34m\u001b[0m\u001b[0m\n\u001b[1;32m   1142\u001b[0m \u001b[0;34m\u001b[0m\u001b[0m\n\u001b[0;32m-> 1143\u001b[0;31m       \u001b[0mfunc_outputs\u001b[0m \u001b[0;34m=\u001b[0m \u001b[0mpython_func\u001b[0m\u001b[0;34m(\u001b[0m\u001b[0;34m*\u001b[0m\u001b[0mfunc_args\u001b[0m\u001b[0;34m,\u001b[0m \u001b[0;34m**\u001b[0m\u001b[0mfunc_kwargs\u001b[0m\u001b[0;34m)\u001b[0m\u001b[0;34m\u001b[0m\u001b[0;34m\u001b[0m\u001b[0m\n\u001b[0m\u001b[1;32m   1144\u001b[0m \u001b[0;34m\u001b[0m\u001b[0m\n\u001b[1;32m   1145\u001b[0m       \u001b[0;31m# invariant: `func_outputs` contains only Tensors, CompositeTensors,\u001b[0m\u001b[0;34m\u001b[0m\u001b[0;34m\u001b[0m\u001b[0;34m\u001b[0m\u001b[0m\n",
            "\u001b[0;32m/usr/local/lib/python3.7/dist-packages/tensorflow/python/data/ops/dataset_ops.py\u001b[0m in \u001b[0;36mwrapped_fn\u001b[0;34m(*args)\u001b[0m\n\u001b[1;32m   4508\u001b[0m           attributes=defun_kwargs)\n\u001b[1;32m   4509\u001b[0m       \u001b[0;32mdef\u001b[0m \u001b[0mwrapped_fn\u001b[0m\u001b[0;34m(\u001b[0m\u001b[0;34m*\u001b[0m\u001b[0margs\u001b[0m\u001b[0;34m)\u001b[0m\u001b[0;34m:\u001b[0m  \u001b[0;31m# pylint: disable=missing-docstring\u001b[0m\u001b[0;34m\u001b[0m\u001b[0;34m\u001b[0m\u001b[0m\n\u001b[0;32m-> 4510\u001b[0;31m         \u001b[0mret\u001b[0m \u001b[0;34m=\u001b[0m \u001b[0mwrapper_helper\u001b[0m\u001b[0;34m(\u001b[0m\u001b[0;34m*\u001b[0m\u001b[0margs\u001b[0m\u001b[0;34m)\u001b[0m\u001b[0;34m\u001b[0m\u001b[0;34m\u001b[0m\u001b[0m\n\u001b[0m\u001b[1;32m   4511\u001b[0m         \u001b[0mret\u001b[0m \u001b[0;34m=\u001b[0m \u001b[0mstructure\u001b[0m\u001b[0;34m.\u001b[0m\u001b[0mto_tensor_list\u001b[0m\u001b[0;34m(\u001b[0m\u001b[0mself\u001b[0m\u001b[0;34m.\u001b[0m\u001b[0m_output_structure\u001b[0m\u001b[0;34m,\u001b[0m \u001b[0mret\u001b[0m\u001b[0;34m)\u001b[0m\u001b[0;34m\u001b[0m\u001b[0;34m\u001b[0m\u001b[0m\n\u001b[1;32m   4512\u001b[0m         \u001b[0;32mreturn\u001b[0m \u001b[0;34m[\u001b[0m\u001b[0mops\u001b[0m\u001b[0;34m.\u001b[0m\u001b[0mconvert_to_tensor\u001b[0m\u001b[0;34m(\u001b[0m\u001b[0mt\u001b[0m\u001b[0;34m)\u001b[0m \u001b[0;32mfor\u001b[0m \u001b[0mt\u001b[0m \u001b[0;32min\u001b[0m \u001b[0mret\u001b[0m\u001b[0;34m]\u001b[0m\u001b[0;34m\u001b[0m\u001b[0;34m\u001b[0m\u001b[0m\n",
            "\u001b[0;32m/usr/local/lib/python3.7/dist-packages/tensorflow/python/data/ops/dataset_ops.py\u001b[0m in \u001b[0;36mwrapper_helper\u001b[0;34m(*args)\u001b[0m\n\u001b[1;32m   4438\u001b[0m       \u001b[0;32mif\u001b[0m \u001b[0;32mnot\u001b[0m \u001b[0m_should_unpack\u001b[0m\u001b[0;34m(\u001b[0m\u001b[0mnested_args\u001b[0m\u001b[0;34m)\u001b[0m\u001b[0;34m:\u001b[0m\u001b[0;34m\u001b[0m\u001b[0;34m\u001b[0m\u001b[0m\n\u001b[1;32m   4439\u001b[0m         \u001b[0mnested_args\u001b[0m \u001b[0;34m=\u001b[0m \u001b[0;34m(\u001b[0m\u001b[0mnested_args\u001b[0m\u001b[0;34m,\u001b[0m\u001b[0;34m)\u001b[0m\u001b[0;34m\u001b[0m\u001b[0;34m\u001b[0m\u001b[0m\n\u001b[0;32m-> 4440\u001b[0;31m       \u001b[0mret\u001b[0m \u001b[0;34m=\u001b[0m \u001b[0mautograph\u001b[0m\u001b[0;34m.\u001b[0m\u001b[0mtf_convert\u001b[0m\u001b[0;34m(\u001b[0m\u001b[0mself\u001b[0m\u001b[0;34m.\u001b[0m\u001b[0m_func\u001b[0m\u001b[0;34m,\u001b[0m \u001b[0mag_ctx\u001b[0m\u001b[0;34m)\u001b[0m\u001b[0;34m(\u001b[0m\u001b[0;34m*\u001b[0m\u001b[0mnested_args\u001b[0m\u001b[0;34m)\u001b[0m\u001b[0;34m\u001b[0m\u001b[0;34m\u001b[0m\u001b[0m\n\u001b[0m\u001b[1;32m   4441\u001b[0m       \u001b[0;32mif\u001b[0m \u001b[0m_should_pack\u001b[0m\u001b[0;34m(\u001b[0m\u001b[0mret\u001b[0m\u001b[0;34m)\u001b[0m\u001b[0;34m:\u001b[0m\u001b[0;34m\u001b[0m\u001b[0;34m\u001b[0m\u001b[0m\n\u001b[1;32m   4442\u001b[0m         \u001b[0mret\u001b[0m \u001b[0;34m=\u001b[0m \u001b[0mtuple\u001b[0m\u001b[0;34m(\u001b[0m\u001b[0mret\u001b[0m\u001b[0;34m)\u001b[0m\u001b[0;34m\u001b[0m\u001b[0;34m\u001b[0m\u001b[0m\n",
            "\u001b[0;32m/usr/local/lib/python3.7/dist-packages/tensorflow/python/autograph/impl/api.py\u001b[0m in \u001b[0;36mwrapper\u001b[0;34m(*args, **kwargs)\u001b[0m\n\u001b[1;32m    697\u001b[0m       \u001b[0;32mexcept\u001b[0m \u001b[0mException\u001b[0m \u001b[0;32mas\u001b[0m \u001b[0me\u001b[0m\u001b[0;34m:\u001b[0m  \u001b[0;31m# pylint:disable=broad-except\u001b[0m\u001b[0;34m\u001b[0m\u001b[0;34m\u001b[0m\u001b[0m\n\u001b[1;32m    698\u001b[0m         \u001b[0;32mif\u001b[0m \u001b[0mhasattr\u001b[0m\u001b[0;34m(\u001b[0m\u001b[0me\u001b[0m\u001b[0;34m,\u001b[0m \u001b[0;34m'ag_error_metadata'\u001b[0m\u001b[0;34m)\u001b[0m\u001b[0;34m:\u001b[0m\u001b[0;34m\u001b[0m\u001b[0;34m\u001b[0m\u001b[0m\n\u001b[0;32m--> 699\u001b[0;31m           \u001b[0;32mraise\u001b[0m \u001b[0me\u001b[0m\u001b[0;34m.\u001b[0m\u001b[0mag_error_metadata\u001b[0m\u001b[0;34m.\u001b[0m\u001b[0mto_exception\u001b[0m\u001b[0;34m(\u001b[0m\u001b[0me\u001b[0m\u001b[0;34m)\u001b[0m\u001b[0;34m\u001b[0m\u001b[0;34m\u001b[0m\u001b[0m\n\u001b[0m\u001b[1;32m    700\u001b[0m         \u001b[0;32melse\u001b[0m\u001b[0;34m:\u001b[0m\u001b[0;34m\u001b[0m\u001b[0;34m\u001b[0m\u001b[0m\n\u001b[1;32m    701\u001b[0m           \u001b[0;32mraise\u001b[0m\u001b[0;34m\u001b[0m\u001b[0;34m\u001b[0m\u001b[0m\n",
            "\u001b[0;31mOperatorNotAllowedInGraphError\u001b[0m: in user code:\n\n    File \"<ipython-input-48-205e413d96ce>\", line 13, in preprocessing  *\n        label = get_label(file_path)\n    File \"<ipython-input-45-af5f5f1d7dd9>\", line 7, in get_label  **\n        if part[-2] == '001.Black_footed_Albatross':\n\n    OperatorNotAllowedInGraphError: using a `tf.Tensor` as a Python `bool` is not allowed in Graph execution. Use Eager execution or decorate this function with @tf.function.\n"
          ]
        }
      ]
    },
    {
      "cell_type": "markdown",
      "metadata": {
        "id": "xPRTY3d24YjQ"
      },
      "source": [
        "# Create model"
      ]
    },
    {
      "cell_type": "code",
      "metadata": {
        "id": "rYH-u7ZL4YBV",
        "colab": {
          "base_uri": "https://localhost:8080/"
        },
        "outputId": "0c6e2ac3-b221-47bf-f579-cf45897db44f"
      },
      "source": [
        "# load VGG module\n",
        "base_model = tf.keras.applications.VGG16(\n",
        "    weights = 'imagenet',\n",
        "    input_shape = (180, 180, 3),\n",
        "    include_top = False,\n",
        ")\n",
        "base_model.trainable = False\n",
        "number_of_classes = 200"
      ],
      "execution_count": 57,
      "outputs": [
        {
          "output_type": "stream",
          "name": "stdout",
          "text": [
            "Downloading data from https://storage.googleapis.com/tensorflow/keras-applications/vgg16/vgg16_weights_tf_dim_ordering_tf_kernels_notop.h5\n",
            "58892288/58889256 [==============================] - 1s 0us/step\n",
            "58900480/58889256 [==============================] - 1s 0us/step\n"
          ]
        }
      ]
    },
    {
      "cell_type": "markdown",
      "metadata": {
        "id": "dFX3JVCe5Un4"
      },
      "source": [
        "# Create model with functional API"
      ]
    },
    {
      "cell_type": "code",
      "metadata": {
        "id": "D56AAGzY5TcN"
      },
      "source": [
        "inputs = tf.keras.Input(shape=(180, 180, 3))\n",
        "x = base_model(inputs, training = False)\n",
        "x = tf.keras.layers.GlobalAveragePooling2D()(x)\n",
        "outputs = tf.keras.layers.Dense(number_of_classes, activation= 'softmax')(x)\n",
        "\n",
        "model = tf.keras.Model(inputs, outputs)"
      ],
      "execution_count": 59,
      "outputs": []
    },
    {
      "cell_type": "code",
      "metadata": {
        "colab": {
          "base_uri": "https://localhost:8080/",
          "height": 422
        },
        "id": "e3IKAyuD7Lk7",
        "outputId": "49344a9a-23c1-4eac-df69-694ee73186a9"
      },
      "source": [
        "tf.keras.utils.plot_model(model, 'model.png', show_shapes=True)"
      ],
      "execution_count": 61,
      "outputs": [
        {
          "output_type": "execute_result",
          "data": {
            "image/png": "[encoded data removed]",
            "text/plain": [
              "<IPython.core.display.Image object>"
            ]
          },
          "metadata": {},
          "execution_count": 61
        }
      ]
    },
    {
      "cell_type": "markdown",
      "metadata": {
        "id": "dxJj7RiL7reQ"
      },
      "source": [
        "# Compile model"
      ]
    },
    {
      "cell_type": "code",
      "metadata": {
        "id": "e9JTlIOv7qv2"
      },
      "source": [
        "model.compile(\n",
        "    optimizer = 'adam',\n",
        "    loss = 'categorical_crossentropy',\n",
        "    metrics = [\"accuracy\"]\n",
        ")"
      ],
      "execution_count": null,
      "outputs": []
    },
    {
      "cell_type": "markdown",
      "metadata": {
        "id": "1SG-my2M8Fty"
      },
      "source": [
        "# Train model"
      ]
    },
    {
      "cell_type": "code",
      "metadata": {
        "id": "1EietRs48E0T"
      },
      "source": [
        "model.fit(train_ds, epochs = 10)"
      ],
      "execution_count": null,
      "outputs": []
    }
  ]
}