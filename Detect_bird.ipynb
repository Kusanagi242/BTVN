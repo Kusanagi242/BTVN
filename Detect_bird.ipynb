{
  "nbformat": 4,
  "nbformat_minor": 0,
  "metadata": {
    "colab": {
      "name": "Detect_bird.ipynb",
      "provenance": [],
      "authorship_tag": "ABX9TyP9d1oHXSDfDci/8LPh0wXf",
      "include_colab_link": true
    },
    "kernelspec": {
      "name": "python3",
      "display_name": "Python 3"
    },
    "language_info": {
      "name": "python"
    }
  },
  "cells": [
    {
      "cell_type": "markdown",
      "metadata": {
        "id": "view-in-github",
        "colab_type": "text"
      },
      "source": [
        "<a href=\"https://colab.research.google.com/github/Kusanagi242/BTVN/blob/main/Detect_bird.ipynb\" target=\"_parent\"><img src=\"https://colab.research.google.com/assets/colab-badge.svg\" alt=\"Open In Colab\"/></a>"
      ]
    },
    {
      "cell_type": "code",
      "metadata": {
        "id": "euGLCMi-85iu"
      },
      "source": [
        "import pickle\n",
        "filename = \"\"\n",
        "model = pikle.load(open(filename, 'rb')"
      ],
      "execution_count": null,
      "outputs": []
    },
    {
      "cell_type": "code",
      "metadata": {
        "id": "tiXzWGS89NWm"
      },
      "source": [
        "# function sliding window\n",
        "def_slidingwindow(image, stepSize, windowSize):\n",
        "  # slide a window across image\n",
        "  for y inrange(0, imag.shape[0] -window[i], stepSize):\n",
        "    for x inrange(0, imag.shape[1] -window[i], stepSize):\n",
        "      # yield the curent window\n",
        "      yields(x, y , image[y: y + windowSize[1], y: y + windowSize[1]])"
      ],
      "execution_count": null,
      "outputs": []
    },
    {
      "cell_type": "code",
      "metadata": {
        "id": "Ia_CuJKz-eQt"
      },
      "source": [
        "# detect bỉrd\n",
        "for (x, y window ) in sliding_window(img_cvt, 251,(224, 224)):\n",
        "  # print(x, y, window)\n",
        "  roi = img.cvt[y:y+224, y:y+224 ]\n",
        "  roi = img.img_to_array(roi)\n",
        "  roi = np.append_dims(roi, axis = 0)\n",
        "  val = (np.where(predict_val_array[0] > 0.6)[0][0] +1) # tìm số thứ tự tương ứng với mỗi loại\\\n",
        "  #  print(dict[val])\n",
        "  offset = 20\n",
        "  size = 230\n",
        "  cv.rectangle(img, (x+offset, y+offset), (x+size, y+size), (0, 255, 2)) # vẽ bound box\n",
        "  text - dict[val]\n",
        "  cv.puttexxt(img, text, (x,y+offset - 5), cv.FONT_HERSHEY_COMPLEX, 0.45, (0, 0, 255)) # gán label\n",
        "cv2_imshow(img)"
      ],
      "execution_count": null,
      "outputs": []
    }
  ]
}